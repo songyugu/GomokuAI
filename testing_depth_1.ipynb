{
  "nbformat": 4,
  "nbformat_minor": 0,
  "metadata": {
    "colab": {
      "name": "testing-depth-1.ipynb",
      "provenance": [],
      "collapsed_sections": []
    },
    "kernelspec": {
      "name": "python3",
      "display_name": "Python 3"
    },
    "language_info": {
      "name": "python"
    }
  },
  "cells": [
    {
      "cell_type": "markdown",
      "metadata": {
        "id": "-BJuzRJn3O_M"
      },
      "source": [
        "## This notebook contains some testing for the different depths of our AI."
      ]
    },
    {
      "cell_type": "code",
      "metadata": {
        "id": "9Z9r9H9VIpp8"
      },
      "source": [
        "\"\"\"\n",
        "This module contains testing for different AIs.\n",
        "\"\"\"\n",
        "\n",
        "from minimax import AI\n",
        "from board import Game\n",
        "\n",
        "\n",
        "def compare_depths(s, d1, d2, times=1):\n",
        "    \"\"\"\n",
        "    This function returns number of wins of the given two AI. \n",
        "    s: size of the board.\n",
        "    d1: depth of first AI (black, 1)\n",
        "    d2: depth of second AI (white, -1)\n",
        "\n",
        "    \"\"\"\n",
        "    ai1 = AI(size=s, player=1, depth=d1)\n",
        "    ai2 = AI(size=s, depth=d2)\n",
        "\n",
        "    counts = [0, 0]\n",
        "    for i in range(times):\n",
        "        game = Game(s)\n",
        "        player = 1\n",
        "        winning = False\n",
        "\n",
        "        while not winning:\n",
        "            # print(player)\n",
        "            if player == 1:  # black's turn\n",
        "                x, y = ai1.minimax(game.board, player)\n",
        "                game.place(x, y, player)\n",
        "                if game.check(x, y, player):\n",
        "                    winning = True\n",
        "                    counts[0] += 1\n",
        "                else:\n",
        "                    player = -player\n",
        "\n",
        "            else:\n",
        "                x, y = ai2.minimax(game.board, player)\n",
        "                game.place(x, y, player)\n",
        "                if game.check(x, y, player):\n",
        "                    winning = True\n",
        "                    counts[1] += 1\n",
        "                else:\n",
        "                    player = -player\n",
        "    # game.print()\n",
        "    return counts\n",
        "\n"
      ],
      "execution_count": 4,
      "outputs": []
    },
    {
      "cell_type": "code",
      "metadata": {
        "id": "c1el0OAaJRU4"
      },
      "source": [
        "# testing depth 1 vs 1 for 10 times\n",
        "d11_10 = compare_depths(9,1,1,10)"
      ],
      "execution_count": 4,
      "outputs": []
    },
    {
      "cell_type": "code",
      "metadata": {
        "colab": {
          "base_uri": "https://localhost:8080/"
        },
        "id": "ayMvahUPLCAb",
        "outputId": "f7bff706-7cf1-4d88-f650-e8336bd49699"
      },
      "source": [
        "d11_10"
      ],
      "execution_count": 5,
      "outputs": [
        {
          "output_type": "execute_result",
          "data": {
            "text/plain": [
              "[7, 3]"
            ]
          },
          "metadata": {},
          "execution_count": 5
        }
      ]
    },
    {
      "cell_type": "code",
      "metadata": {
        "id": "yh7l0GjDrnJ2"
      },
      "source": [
        "# testing depth 1 vs 2 for 10 times\n",
        "d12_10 = compare_depths(9,1,2,10)"
      ],
      "execution_count": 5,
      "outputs": []
    },
    {
      "cell_type": "code",
      "metadata": {
        "colab": {
          "base_uri": "https://localhost:8080/"
        },
        "id": "GWyirOh69_A6",
        "outputId": "3815c300-e291-4918-d8ed-3758ff70380c"
      },
      "source": [
        "d12_10"
      ],
      "execution_count": 6,
      "outputs": [
        {
          "output_type": "execute_result",
          "data": {
            "text/plain": [
              "[5, 5]"
            ]
          },
          "metadata": {},
          "execution_count": 6
        }
      ]
    },
    {
      "cell_type": "code",
      "metadata": {
        "id": "_yFaiDsB-I98"
      },
      "source": [
        "# testing depth of 2 vs 1 for 10 times\n",
        "d21_10 = compare_depths(9,2,1,10)"
      ],
      "execution_count": 7,
      "outputs": []
    },
    {
      "cell_type": "code",
      "metadata": {
        "colab": {
          "base_uri": "https://localhost:8080/"
        },
        "id": "eSDohtV-E1oR",
        "outputId": "10fa511f-d623-4037-e164-376ef46500ca"
      },
      "source": [
        "d21_10"
      ],
      "execution_count": 8,
      "outputs": [
        {
          "output_type": "execute_result",
          "data": {
            "text/plain": [
              "[10, 0]"
            ]
          },
          "metadata": {},
          "execution_count": 8
        }
      ]
    }
  ]
}