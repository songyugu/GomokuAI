{
  "nbformat": 4,
  "nbformat_minor": 0,
  "metadata": {
    "colab": {
      "name": "testing-depth-2.ipynb",
      "provenance": []
    },
    "kernelspec": {
      "display_name": "Python 3",
      "name": "python3"
    },
    "language_info": {
      "name": "python"
    }
  },
  "cells": [
    {
      "cell_type": "markdown",
      "metadata": {
        "id": "Ptse99hb3MvG"
      },
      "source": [
        "## This notebook contains testing for AIs with different depths."
      ]
    },
    {
      "cell_type": "code",
      "metadata": {
        "id": "knKUIb77LdAt"
      },
      "source": [
        "from minimax import AI\n",
        "from board import Game\n",
        "\n",
        "def compare_depths(s, d1, d2, times=1):\n",
        "    \"\"\"\n",
        "    This function returns number of wins of the given two AI. \n",
        "    s: size of the board.\n",
        "    d1: depth of first AI (black, 1)\n",
        "    d2: depth of second AI (white, -1)\n",
        "\n",
        "    \"\"\"\n",
        "    ai1 = AI(size=s, player=1, depth=d1)\n",
        "    ai2 = AI(size=s, depth=d2)\n",
        "\n",
        "    counts = [0, 0]\n",
        "    for i in range(times):\n",
        "        game = Game(s)\n",
        "        player = 1\n",
        "        winning = False\n",
        "\n",
        "        while not winning:\n",
        "            # print(player)\n",
        "            if player == 1:  # black's turn\n",
        "                x, y = ai1.minimax(game.board, player)\n",
        "                game.place(x, y, player)\n",
        "                if game.check(x, y, player):\n",
        "                    winning = True\n",
        "                    counts[0] += 1\n",
        "                else:\n",
        "                    player = -player\n",
        "\n",
        "            else:\n",
        "                x, y = ai2.minimax(game.board, player)\n",
        "                game.place(x, y, player)\n",
        "                if game.check(x, y, player):\n",
        "                    winning = True\n",
        "                    counts[1] += 1\n",
        "                else:\n",
        "                    player = -player\n",
        "    # game.print()\n",
        "    return counts\n"
      ],
      "execution_count": 10,
      "outputs": []
    },
    {
      "cell_type": "code",
      "metadata": {
        "colab": {
          "base_uri": "https://localhost:8080/"
        },
        "id": "elgjbcUIMt3f",
        "outputId": "a3cb7e0d-d0a4-488c-d011-c3ebd06d1311"
      },
      "source": [
        "# testing depth 1 vs 1 on 9x9 board for 20 times\n",
        "d11_1 = compare_depths(9,1,1,20)\n",
        "d11_1"
      ],
      "execution_count": 11,
      "outputs": [
        {
          "output_type": "execute_result",
          "data": {
            "text/plain": [
              "[15, 5]"
            ]
          },
          "metadata": {},
          "execution_count": 11
        }
      ]
    },
    {
      "cell_type": "code",
      "metadata": {
        "colab": {
          "base_uri": "https://localhost:8080/"
        },
        "id": "K68lTp1nXmlu",
        "outputId": "b34d6716-1433-4485-daca-adb3776ae13c"
      },
      "source": [
        "# testing depth 1 vs 2 on 9x9 board for 1 times\n",
        "d12_1 = compare_depths(9,1,2)\n",
        "d12_1"
      ],
      "execution_count": null,
      "outputs": [
        {
          "data": {
            "text/plain": [
              "[0, 1]"
            ]
          },
          "execution_count": 11,
          "metadata": {},
          "output_type": "execute_result"
        }
      ]
    },
    {
      "cell_type": "code",
      "metadata": {
        "colab": {
          "base_uri": "https://localhost:8080/"
        },
        "id": "LtH_6fbiF85U",
        "outputId": "4336a64d-a960-4a56-cdf7-42a44608e64e"
      },
      "source": [
        "# testing depth 2 vs 1 on 9x9 board for 1 times\n",
        "d21_1 = compare_depths(9,2,1)\n",
        "d21_1"
      ],
      "execution_count": null,
      "outputs": [
        {
          "data": {
            "text/plain": [
              "[1, 0]"
            ]
          },
          "execution_count": 12,
          "metadata": {},
          "output_type": "execute_result"
        }
      ]
    },
    {
      "cell_type": "code",
      "metadata": {
        "colab": {
          "base_uri": "https://localhost:8080/"
        },
        "id": "HtoP977qF9rT",
        "outputId": "4d3863b4-6788-459b-e7b8-04aaca31ddfc"
      },
      "source": [
        "# testing depth 2 vs 2 on 9x9 board for 2 times\n",
        "d22_2 = compare_depths(9,2,2,2)\n",
        "d22_2"
      ],
      "execution_count": null,
      "outputs": [
        {
          "data": {
            "text/plain": [
              "[0, 2]"
            ]
          },
          "execution_count": 14,
          "metadata": {},
          "output_type": "execute_result"
        }
      ]
    },
    {
      "cell_type": "code",
      "metadata": {
        "colab": {
          "background_save": true
        },
        "id": "Ti_EAhc3WykW",
        "outputId": "428bce8b-0e43-469e-ea07-e17b2b4e591f"
      },
      "source": [
        "# testing depth 2 vs 2 on 9x9 board for 10 times\n",
        "d22_10 = compare_depths(9,2,2,10)\n",
        "d22_10"
      ],
      "execution_count": null,
      "outputs": [
        {
          "data": {
            "text/plain": [
              "[7, 3]"
            ]
          },
          "execution_count": null,
          "metadata": {},
          "output_type": "execute_result"
        }
      ]
    }
  ]
}