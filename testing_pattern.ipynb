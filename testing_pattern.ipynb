{
  "cells": [
    {
      "cell_type": "code",
      "execution_count": 1,
      "metadata": {
        "id": "2p3Fls_DYk2k"
      },
      "outputs": [],
      "source": [
        "from minimax import AI\n",
        "from board import Game\n",
        "\n",
        "\n",
        "def test_helper(times, ai1, ai2, s):\n",
        "    \"\"\"\n",
        "    Helper function for testing.\n",
        "    \"\"\"\n",
        "    counts = [0, 0]\n",
        "    for i in range(times):\n",
        "        game = Game(s)\n",
        "        player = 1\n",
        "        winning = False\n",
        "\n",
        "        while not winning:\n",
        "            # print(player)\n",
        "            if player == 1:  # black's turn\n",
        "                x, y = ai1.minimax(game.board, player)\n",
        "                if x==-1 and y==-1:\n",
        "                    break\n",
        "                game.place(x, y, player)\n",
        "                if game.check(x, y, player):\n",
        "                    winning = True\n",
        "                    counts[0] += 1\n",
        "                else:\n",
        "                    player = -player\n",
        "\n",
        "            else:\n",
        "                x, y = ai2.minimax(game.board, player)\n",
        "                if x==-1 and y==-1:\n",
        "                    break\n",
        "                game.place(x, y, player)\n",
        "                if game.check(x, y, player):\n",
        "                    winning = True\n",
        "                    counts[1] += 1\n",
        "                else:\n",
        "                    player = -player\n",
        "        game.print()\n",
        "    return counts\n",
        "\n",
        "\n",
        "def compare_patternS(s, p1, p2, times=1):\n",
        "    \"\"\"\n",
        "    This function returns number of wins of the given two AI. \n",
        "    s: size of the board.\n",
        "    p1: pattern function of first AI (black, 1)\n",
        "    p2: pattern function of second AI (white, -1)\n",
        "    \"\"\"\n",
        "    ai1 = AI(size=s, player=1, pattern_scores=p1)\n",
        "    ai2 = AI(size=s, pattern_scores=p2)\n",
        "\n",
        "    results = test_helper(times, ai1, ai2, s)\n",
        "    return results"
      ]
    },
    {
      "cell_type": "code",
      "execution_count": 2,
      "metadata": {
        "id": "4cHRI724YviH"
      },
      "outputs": [],
      "source": [
        "PATTERN_SCORES_default = {\n",
        "    '5': 100000000,\n",
        "    'open4': 8000000,\n",
        "    'half4': 400000,\n",
        "    'open3': 40000,\n",
        "    'half3': 20000,\n",
        "    'open2': 200,\n",
        "    'half2': 100\n",
        "}"
      ]
    },
    {
      "cell_type": "code",
      "execution_count": 3,
      "metadata": {
        "id": "rRTcW3cxYzb3"
      },
      "outputs": [],
      "source": [
        "PATTERN_SCORES_1 = {\n",
        "    '5': 10000000,\n",
        "    'open4': 800000,\n",
        "    'half4': 40000,\n",
        "    'open3': 4000,\n",
        "    'half3': 2000,\n",
        "    'open2': 20,\n",
        "    'half2': 10\n",
        "}"
      ]
    },
    {
      "cell_type": "code",
      "execution_count": 4,
      "metadata": {
        "colab": {
          "base_uri": "https://localhost:8080/"
        },
        "id": "sGjY7xwGZGPu",
        "outputId": "5f9f9790-066b-4339-c79a-6b86f8684b71"
      },
      "outputs": [
        {
          "name": "stdout",
          "output_type": "stream",
          "text": [
            "\n",
            "\n",
            "--  --  --  --  --  --  --  --  --  --\n",
            "    00  01  02  03  04  05  06  07  08\n",
            "00  \u001b[93mO\u001b[0m   \u001b[93mO\u001b[0m   \u001b[96mX\u001b[0m   \u001b[96mX\u001b[0m   \u001b[96mX\u001b[0m   \u001b[96mX\u001b[0m   \u001b[93mO\u001b[0m   \u001b[96mX\u001b[0m   \u001b[96mX\u001b[0m\n",
            "01  \u001b[96mX\u001b[0m   \u001b[96mX\u001b[0m   \u001b[96mX\u001b[0m   \u001b[93mO\u001b[0m   \u001b[93mO\u001b[0m   \u001b[93mO\u001b[0m   \u001b[96mX\u001b[0m   \u001b[93mO\u001b[0m   \u001b[96mX\u001b[0m\n",
            "02  \u001b[93mO\u001b[0m   \u001b[96mX\u001b[0m   \u001b[93mO\u001b[0m   \u001b[96mX\u001b[0m   \u001b[93mO\u001b[0m   \u001b[93mO\u001b[0m   \u001b[93mO\u001b[0m   \u001b[96mX\u001b[0m   \u001b[96mX\u001b[0m\n",
            "03  \u001b[93mO\u001b[0m   \u001b[93mO\u001b[0m   \u001b[96mX\u001b[0m   \u001b[96mX\u001b[0m   \u001b[93mO\u001b[0m   \u001b[93mO\u001b[0m   \u001b[93mO\u001b[0m   \u001b[96mX\u001b[0m   \u001b[93mO\u001b[0m\n",
            "04  \u001b[96mX\u001b[0m   \u001b[96mX\u001b[0m   \u001b[96mX\u001b[0m   \u001b[93mO\u001b[0m   \u001b[96mX\u001b[0m   \u001b[96mX\u001b[0m   \u001b[96mX\u001b[0m   \u001b[96mX\u001b[0m   \u001b[93mO\u001b[0m\n",
            "05  \u001b[93mO\u001b[0m   \u001b[96mX\u001b[0m   \u001b[96mX\u001b[0m   \u001b[93mO\u001b[0m   \u001b[96mX\u001b[0m   \u001b[93mO\u001b[0m   \u001b[96mX\u001b[0m   \u001b[96mX\u001b[0m   \u001b[96mX\u001b[0m\n",
            "06  \u001b[93mO\u001b[0m   \u001b[96mX\u001b[0m   \u001b[93mO\u001b[0m   \u001b[96mX\u001b[0m   \u001b[93mO\u001b[0m   \u001b[93mO\u001b[0m   \u001b[93mO\u001b[0m   \u001b[93mO\u001b[0m   \u001b[96mX\u001b[0m\n",
            "07  \u001b[93mO\u001b[0m   \u001b[93mO\u001b[0m   \u001b[96mX\u001b[0m   \u001b[93mO\u001b[0m   \u001b[93mO\u001b[0m   \u001b[93mO\u001b[0m   \u001b[93mO\u001b[0m   \u001b[96mX\u001b[0m   \u001b[93mO\u001b[0m\n",
            "08  \u001b[96mX\u001b[0m   \u001b[93mO\u001b[0m   \u001b[96mX\u001b[0m   \u001b[93mO\u001b[0m   \u001b[96mX\u001b[0m   \u001b[96mX\u001b[0m   \u001b[96mX\u001b[0m   \u001b[93mO\u001b[0m   \u001b[93mO\u001b[0m\n",
            "--  --  --  --  --  --  --  --  --  --\n",
            "\n",
            "\n"
          ]
        },
        {
          "data": {
            "text/plain": [
              "[0, 0]"
            ]
          },
          "execution_count": 4,
          "metadata": {},
          "output_type": "execute_result"
        }
      ],
      "source": [
        "compare_patternS(9,PATTERN_SCORES_default, PATTERN_SCORES_1,1)"
      ]
    },
    {
      "cell_type": "code",
      "execution_count": 5,
      "metadata": {
        "id": "2jUvT4-8djXI"
      },
      "outputs": [],
      "source": [
        "PATTERN_SCORES_2 = {\n",
        "    '5': 1000000,\n",
        "    'open4': 500000,\n",
        "    'half4': 10000,\n",
        "    'open3': 1000,\n",
        "    'half3': 200,\n",
        "    'open2': 20,\n",
        "    'half2': 10\n",
        "}"
      ]
    },
    {
      "cell_type": "code",
      "execution_count": 6,
      "metadata": {
        "colab": {
          "base_uri": "https://localhost:8080/"
        },
        "id": "6Z4ykH49c9JA",
        "outputId": "db305d20-e08c-4d61-9442-2c78328919e3"
      },
      "outputs": [
        {
          "name": "stdout",
          "output_type": "stream",
          "text": [
            "\n",
            "\n",
            "--  --  --  --  --  --  --  --  --  --\n",
            "    00  01  02  03  04  05  06  07  08\n",
            "00  \u001b[96mX\u001b[0m   \u001b[96mX\u001b[0m   \u001b[96mX\u001b[0m   \u001b[93mO\u001b[0m   \u001b[93mO\u001b[0m   \u001b[93mO\u001b[0m   \u001b[96mX\u001b[0m   \u001b[93mO\u001b[0m   \u001b[93mO\u001b[0m\n",
            "01  \u001b[96mX\u001b[0m   \u001b[93mO\u001b[0m   \u001b[96mX\u001b[0m   \u001b[96mX\u001b[0m   \u001b[96mX\u001b[0m   \u001b[96mX\u001b[0m   \u001b[93mO\u001b[0m   \u001b[96mX\u001b[0m   \u001b[93mO\u001b[0m\n",
            "02  \u001b[93mO\u001b[0m   \u001b[96mX\u001b[0m   \u001b[93mO\u001b[0m   \u001b[93mO\u001b[0m   \u001b[93mO\u001b[0m   \u001b[96mX\u001b[0m   \u001b[96mX\u001b[0m   \u001b[93mO\u001b[0m   \u001b[96mX\u001b[0m\n",
            "03  \u001b[93mO\u001b[0m   \u001b[96mX\u001b[0m   \u001b[93mO\u001b[0m   \u001b[96mX\u001b[0m   \u001b[96mX\u001b[0m   \u001b[96mX\u001b[0m   \u001b[96mX\u001b[0m   \u001b[93mO\u001b[0m   \u001b[96mX\u001b[0m\n",
            "04  \u001b[96mX\u001b[0m   \u001b[93mO\u001b[0m   \u001b[93mO\u001b[0m   \u001b[93mO\u001b[0m   \u001b[96mX\u001b[0m   \u001b[96mX\u001b[0m   \u001b[96mX\u001b[0m   \u001b[93mO\u001b[0m   \u001b[93mO\u001b[0m\n",
            "05  \u001b[96mX\u001b[0m   \u001b[93mO\u001b[0m   \u001b[96mX\u001b[0m   \u001b[93mO\u001b[0m   \u001b[96mX\u001b[0m   \u001b[93mO\u001b[0m   \u001b[93mO\u001b[0m   \u001b[96mX\u001b[0m   \u001b[93mO\u001b[0m\n",
            "06  \u001b[96mX\u001b[0m   \u001b[96mX\u001b[0m   \u001b[93mO\u001b[0m   \u001b[93mO\u001b[0m   \u001b[93mO\u001b[0m   \u001b[96mX\u001b[0m   \u001b[93mO\u001b[0m   \u001b[93mO\u001b[0m   \u001b[93mO\u001b[0m\n",
            "07  \u001b[93mO\u001b[0m   \u001b[93mO\u001b[0m   \u001b[93mO\u001b[0m   \u001b[96mX\u001b[0m   \u001b[96mX\u001b[0m   \u001b[93mO\u001b[0m   \u001b[93mO\u001b[0m   \u001b[96mX\u001b[0m   \u001b[96mX\u001b[0m\n",
            "08  \u001b[96mX\u001b[0m   \u001b[96mX\u001b[0m   \u001b[96mX\u001b[0m   \u001b[93mO\u001b[0m   \u001b[96mX\u001b[0m   \u001b[96mX\u001b[0m   \u001b[96mX\u001b[0m   \u001b[93mO\u001b[0m   \u001b[93mO\u001b[0m\n",
            "--  --  --  --  --  --  --  --  --  --\n",
            "\n",
            "\n",
            "\n",
            "\n",
            "--  --  --  --  --  --  --  --  --  --\n",
            "    00  01  02  03  04  05  06  07  08\n",
            "00  \u001b[96mX\u001b[0m   \u001b[96mX\u001b[0m   \u001b[96mX\u001b[0m   \u001b[93mO\u001b[0m   \u001b[96mX\u001b[0m   \u001b[96mX\u001b[0m   \u001b[96mX\u001b[0m   \u001b[93mO\u001b[0m   \u001b[96mX\u001b[0m\n",
            "01  \u001b[96mX\u001b[0m   \u001b[93mO\u001b[0m   \u001b[93mO\u001b[0m   \u001b[96mX\u001b[0m   \u001b[93mO\u001b[0m   \u001b[96mX\u001b[0m   \u001b[93mO\u001b[0m   \u001b[93mO\u001b[0m   \u001b[96mX\u001b[0m\n",
            "02  \u001b[93mO\u001b[0m   \u001b[93mO\u001b[0m   \u001b[93mO\u001b[0m   \u001b[96mX\u001b[0m   \u001b[93mO\u001b[0m   \u001b[93mO\u001b[0m   \u001b[93mO\u001b[0m   \u001b[96mX\u001b[0m   \u001b[96mX\u001b[0m\n",
            "03  \u001b[96mX\u001b[0m   \u001b[96mX\u001b[0m   \u001b[96mX\u001b[0m   \u001b[93mO\u001b[0m   \u001b[96mX\u001b[0m   \u001b[93mO\u001b[0m   \u001b[96mX\u001b[0m   \u001b[93mO\u001b[0m   \u001b[93mO\u001b[0m\n",
            "04  \u001b[93mO\u001b[0m   \u001b[93mO\u001b[0m   \u001b[96mX\u001b[0m   \u001b[96mX\u001b[0m   \u001b[96mX\u001b[0m   \u001b[93mO\u001b[0m   \u001b[93mO\u001b[0m   \u001b[93mO\u001b[0m   \u001b[96mX\u001b[0m\n",
            "05  \u001b[96mX\u001b[0m   \u001b[96mX\u001b[0m   \u001b[96mX\u001b[0m   \u001b[93mO\u001b[0m   \u001b[93mO\u001b[0m   \u001b[96mX\u001b[0m   \u001b[96mX\u001b[0m   \u001b[96mX\u001b[0m   \u001b[93mO\u001b[0m\n",
            "06  \u001b[93mO\u001b[0m   \u001b[96mX\u001b[0m   \u001b[93mO\u001b[0m   \u001b[93mO\u001b[0m   \u001b[93mO\u001b[0m   \u001b[96mX\u001b[0m   \u001b[96mX\u001b[0m   \u001b[96mX\u001b[0m   \u001b[93mO\u001b[0m\n",
            "07  \u001b[93mO\u001b[0m   \u001b[93mO\u001b[0m   \u001b[96mX\u001b[0m   \u001b[96mX\u001b[0m   \u001b[93mO\u001b[0m   \u001b[93mO\u001b[0m   \u001b[96mX\u001b[0m   \u001b[93mO\u001b[0m   \u001b[96mX\u001b[0m\n",
            "08  \u001b[96mX\u001b[0m   \u001b[93mO\u001b[0m   \u001b[93mO\u001b[0m   \u001b[93mO\u001b[0m   \u001b[96mX\u001b[0m   \u001b[96mX\u001b[0m   \u001b[96mX\u001b[0m   \u001b[93mO\u001b[0m   \u001b[93mO\u001b[0m\n",
            "--  --  --  --  --  --  --  --  --  --\n",
            "\n",
            "\n",
            "\n",
            "\n",
            "--  --  --  --  --  --  --  --  --  --\n",
            "    00  01  02  03  04  05  06  07  08\n",
            "00  \u001b[96mX\u001b[0m   _   _   _   _   _   _   _   _\n",
            "01  _   \u001b[93mO\u001b[0m   _   \u001b[96mX\u001b[0m   \u001b[93mO\u001b[0m   \u001b[96mX\u001b[0m   \u001b[93mO\u001b[0m   \u001b[96mX\u001b[0m   _\n",
            "02  _   \u001b[96mX\u001b[0m   \u001b[93mO\u001b[0m   \u001b[93mO\u001b[0m   \u001b[93mO\u001b[0m   \u001b[96mX\u001b[0m   \u001b[93mO\u001b[0m   \u001b[93mO\u001b[0m   _\n",
            "03  _   _   \u001b[96mX\u001b[0m   \u001b[93mO\u001b[0m   \u001b[96mX\u001b[0m   \u001b[93mO\u001b[0m   \u001b[96mX\u001b[0m   \u001b[96mX\u001b[0m   _\n",
            "04  \u001b[96mX\u001b[0m   \u001b[93mO\u001b[0m   \u001b[93mO\u001b[0m   \u001b[93mO\u001b[0m   \u001b[96mX\u001b[0m   \u001b[96mX\u001b[0m   \u001b[96mX\u001b[0m   \u001b[93mO\u001b[0m   \u001b[93mO\u001b[0m\n",
            "05  \u001b[93mO\u001b[0m   \u001b[96mX\u001b[0m   \u001b[96mX\u001b[0m   \u001b[96mX\u001b[0m   \u001b[93mO\u001b[0m   \u001b[96mX\u001b[0m   \u001b[96mX\u001b[0m   \u001b[96mX\u001b[0m   \u001b[93mO\u001b[0m\n",
            "06  \u001b[93mO\u001b[0m   \u001b[96mX\u001b[0m   \u001b[96mX\u001b[0m   \u001b[96mX\u001b[0m   \u001b[93mO\u001b[0m   \u001b[93mO\u001b[0m   \u001b[93mO\u001b[0m   \u001b[96mX\u001b[0m   \u001b[93mO\u001b[0m\n",
            "07  _   \u001b[93mO\u001b[0m   \u001b[96mX\u001b[0m   \u001b[93mO\u001b[0m   \u001b[93mO\u001b[0m   _   \u001b[96mX\u001b[0m   \u001b[96mX\u001b[0m   \u001b[93mO\u001b[0m\n",
            "08  \u001b[96mX\u001b[0m   \u001b[93mO\u001b[0m   \u001b[93mO\u001b[0m   \u001b[96mX\u001b[0m   \u001b[96mX\u001b[0m   \u001b[93mO\u001b[0m   _   \u001b[96mX\u001b[0m   \u001b[93mO\u001b[0m\n",
            "--  --  --  --  --  --  --  --  --  --\n",
            "\n",
            "\n",
            "\n",
            "\n",
            "--  --  --  --  --  --  --  --  --  --\n",
            "    00  01  02  03  04  05  06  07  08\n",
            "00  \u001b[96mX\u001b[0m   \u001b[93mO\u001b[0m   \u001b[93mO\u001b[0m   \u001b[96mX\u001b[0m   \u001b[93mO\u001b[0m   \u001b[93mO\u001b[0m   \u001b[96mX\u001b[0m   \u001b[93mO\u001b[0m   \u001b[96mX\u001b[0m\n",
            "01  \u001b[93mO\u001b[0m   \u001b[93mO\u001b[0m   \u001b[96mX\u001b[0m   \u001b[96mX\u001b[0m   \u001b[93mO\u001b[0m   \u001b[96mX\u001b[0m   \u001b[96mX\u001b[0m   \u001b[96mX\u001b[0m   \u001b[93mO\u001b[0m\n",
            "02  \u001b[96mX\u001b[0m   \u001b[96mX\u001b[0m   \u001b[93mO\u001b[0m   \u001b[96mX\u001b[0m   \u001b[96mX\u001b[0m   \u001b[96mX\u001b[0m   \u001b[93mO\u001b[0m   \u001b[96mX\u001b[0m   \u001b[93mO\u001b[0m\n",
            "03  \u001b[93mO\u001b[0m   \u001b[96mX\u001b[0m   \u001b[96mX\u001b[0m   \u001b[93mO\u001b[0m   \u001b[96mX\u001b[0m   \u001b[96mX\u001b[0m   \u001b[93mO\u001b[0m   \u001b[93mO\u001b[0m   \u001b[96mX\u001b[0m\n",
            "04  \u001b[93mO\u001b[0m   \u001b[93mO\u001b[0m   \u001b[93mO\u001b[0m   \u001b[96mX\u001b[0m   \u001b[96mX\u001b[0m   \u001b[93mO\u001b[0m   \u001b[93mO\u001b[0m   \u001b[93mO\u001b[0m   \u001b[96mX\u001b[0m\n",
            "05  \u001b[96mX\u001b[0m   \u001b[96mX\u001b[0m   \u001b[93mO\u001b[0m   \u001b[93mO\u001b[0m   \u001b[93mO\u001b[0m   \u001b[96mX\u001b[0m   \u001b[93mO\u001b[0m   \u001b[96mX\u001b[0m   \u001b[96mX\u001b[0m\n",
            "06  \u001b[93mO\u001b[0m   \u001b[96mX\u001b[0m   \u001b[96mX\u001b[0m   \u001b[96mX\u001b[0m   \u001b[93mO\u001b[0m   \u001b[96mX\u001b[0m   \u001b[96mX\u001b[0m   \u001b[96mX\u001b[0m   \u001b[93mO\u001b[0m\n",
            "07  \u001b[93mO\u001b[0m   \u001b[96mX\u001b[0m   \u001b[93mO\u001b[0m   \u001b[96mX\u001b[0m   \u001b[96mX\u001b[0m   \u001b[96mX\u001b[0m   \u001b[93mO\u001b[0m   \u001b[93mO\u001b[0m   \u001b[93mO\u001b[0m\n",
            "08  \u001b[93mO\u001b[0m   \u001b[96mX\u001b[0m   \u001b[93mO\u001b[0m   \u001b[93mO\u001b[0m   \u001b[93mO\u001b[0m   \u001b[93mO\u001b[0m   \u001b[96mX\u001b[0m   \u001b[93mO\u001b[0m   \u001b[96mX\u001b[0m\n",
            "--  --  --  --  --  --  --  --  --  --\n",
            "\n",
            "\n",
            "\n",
            "\n",
            "--  --  --  --  --  --  --  --  --  --\n",
            "    00  01  02  03  04  05  06  07  08\n",
            "00  \u001b[93mO\u001b[0m   \u001b[96mX\u001b[0m   \u001b[96mX\u001b[0m   \u001b[93mO\u001b[0m   \u001b[96mX\u001b[0m   \u001b[96mX\u001b[0m   \u001b[96mX\u001b[0m   \u001b[93mO\u001b[0m   \u001b[96mX\u001b[0m\n",
            "01  \u001b[96mX\u001b[0m   \u001b[93mO\u001b[0m   \u001b[96mX\u001b[0m   \u001b[93mO\u001b[0m   \u001b[96mX\u001b[0m   \u001b[93mO\u001b[0m   \u001b[96mX\u001b[0m   \u001b[93mO\u001b[0m   \u001b[96mX\u001b[0m\n",
            "02  \u001b[96mX\u001b[0m   \u001b[96mX\u001b[0m   \u001b[93mO\u001b[0m   \u001b[96mX\u001b[0m   \u001b[93mO\u001b[0m   \u001b[93mO\u001b[0m   \u001b[93mO\u001b[0m   \u001b[96mX\u001b[0m   \u001b[93mO\u001b[0m\n",
            "03  \u001b[93mO\u001b[0m   \u001b[93mO\u001b[0m   \u001b[93mO\u001b[0m   \u001b[96mX\u001b[0m   \u001b[93mO\u001b[0m   \u001b[93mO\u001b[0m   \u001b[93mO\u001b[0m   \u001b[96mX\u001b[0m   \u001b[96mX\u001b[0m\n",
            "04  \u001b[96mX\u001b[0m   \u001b[93mO\u001b[0m   \u001b[93mO\u001b[0m   \u001b[93mO\u001b[0m   \u001b[96mX\u001b[0m   \u001b[93mO\u001b[0m   \u001b[96mX\u001b[0m   \u001b[93mO\u001b[0m   \u001b[93mO\u001b[0m\n",
            "05  \u001b[96mX\u001b[0m   \u001b[93mO\u001b[0m   \u001b[96mX\u001b[0m   \u001b[96mX\u001b[0m   \u001b[96mX\u001b[0m   \u001b[96mX\u001b[0m   \u001b[93mO\u001b[0m   \u001b[93mO\u001b[0m   \u001b[96mX\u001b[0m\n",
            "06  \u001b[96mX\u001b[0m   \u001b[96mX\u001b[0m   \u001b[93mO\u001b[0m   \u001b[96mX\u001b[0m   \u001b[93mO\u001b[0m   \u001b[93mO\u001b[0m   \u001b[96mX\u001b[0m   \u001b[96mX\u001b[0m   \u001b[96mX\u001b[0m\n",
            "07  \u001b[93mO\u001b[0m   \u001b[93mO\u001b[0m   \u001b[93mO\u001b[0m   \u001b[96mX\u001b[0m   \u001b[96mX\u001b[0m   \u001b[96mX\u001b[0m   \u001b[93mO\u001b[0m   \u001b[93mO\u001b[0m   \u001b[93mO\u001b[0m\n",
            "08  \u001b[96mX\u001b[0m   \u001b[96mX\u001b[0m   \u001b[96mX\u001b[0m   \u001b[93mO\u001b[0m   \u001b[93mO\u001b[0m   \u001b[93mO\u001b[0m   \u001b[96mX\u001b[0m   \u001b[93mO\u001b[0m   \u001b[96mX\u001b[0m\n",
            "--  --  --  --  --  --  --  --  --  --\n",
            "\n",
            "\n"
          ]
        },
        {
          "data": {
            "text/plain": [
              "[0, 1]"
            ]
          },
          "execution_count": 6,
          "metadata": {},
          "output_type": "execute_result"
        }
      ],
      "source": [
        "compare_patternS(9,PATTERN_SCORES_default, PATTERN_SCORES_2,5)"
      ]
    },
    {
      "cell_type": "code",
      "execution_count": 7,
      "metadata": {
        "colab": {
          "base_uri": "https://localhost:8080/"
        },
        "id": "-p8do2pDvAzu",
        "outputId": "801b072c-4766-41ce-c1f6-71ac2090dc85"
      },
      "outputs": [
        {
          "name": "stdout",
          "output_type": "stream",
          "text": [
            "\n",
            "\n",
            "--  --  --  --  --  --  --  --  --  --\n",
            "    00  01  02  03  04  05  06  07  08\n",
            "00  _   _   _   _   _   _   _   _   _\n",
            "01  _   _   _   _   \u001b[93mO\u001b[0m   _   _   _   _\n",
            "02  _   _   \u001b[96mX\u001b[0m   \u001b[96mX\u001b[0m   _   _   _   _   _\n",
            "03  _   \u001b[93mO\u001b[0m   \u001b[96mX\u001b[0m   \u001b[96mX\u001b[0m   _   \u001b[93mO\u001b[0m   _   _   _\n",
            "04  _   \u001b[96mX\u001b[0m   \u001b[93mO\u001b[0m   \u001b[93mO\u001b[0m   \u001b[96mX\u001b[0m   _   \u001b[93mO\u001b[0m   _   _\n",
            "05  \u001b[93mO\u001b[0m   \u001b[96mX\u001b[0m   \u001b[96mX\u001b[0m   \u001b[96mX\u001b[0m   \u001b[93mO\u001b[0m   \u001b[93mO\u001b[0m   _   _   _\n",
            "06  _   \u001b[96mX\u001b[0m   \u001b[96mX\u001b[0m   \u001b[96mX\u001b[0m   \u001b[93mO\u001b[0m   _   \u001b[96mX\u001b[0m   _   _\n",
            "07  _   \u001b[93mO\u001b[0m   \u001b[96mX\u001b[0m   \u001b[93mO\u001b[0m   \u001b[93mO\u001b[0m   _   _   _   _\n",
            "08  _   _   \u001b[93mO\u001b[0m   \u001b[93mO\u001b[0m   \u001b[96mX\u001b[0m   _   _   _   _\n",
            "--  --  --  --  --  --  --  --  --  --\n",
            "\n",
            "\n",
            "\n",
            "\n",
            "--  --  --  --  --  --  --  --  --  --\n",
            "    00  01  02  03  04  05  06  07  08\n",
            "00  _   _   _   _   _   _   _   _   _\n",
            "01  _   _   _   _   _   _   _   _   _\n",
            "02  _   _   _   _   _   _   \u001b[96mX\u001b[0m   _   _\n",
            "03  _   _   _   \u001b[93mO\u001b[0m   _   \u001b[93mO\u001b[0m   \u001b[96mX\u001b[0m   _   _\n",
            "04  _   _   _   \u001b[93mO\u001b[0m   \u001b[96mX\u001b[0m   \u001b[93mO\u001b[0m   \u001b[96mX\u001b[0m   \u001b[93mO\u001b[0m   _\n",
            "05  _   _   _   \u001b[96mX\u001b[0m   \u001b[93mO\u001b[0m   \u001b[96mX\u001b[0m   \u001b[96mX\u001b[0m   \u001b[93mO\u001b[0m   _\n",
            "06  _   _   \u001b[96mX\u001b[0m   \u001b[96mX\u001b[0m   \u001b[93mO\u001b[0m   \u001b[96mX\u001b[0m   \u001b[96mX\u001b[0m   \u001b[96mX\u001b[0m   \u001b[93mO\u001b[0m\n",
            "07  _   _   \u001b[93mO\u001b[0m   \u001b[96mX\u001b[0m   \u001b[96mX\u001b[0m   \u001b[96mX\u001b[0m   \u001b[93mO\u001b[0m   \u001b[93mO\u001b[0m   _\n",
            "08  _   _   _   \u001b[93mO\u001b[0m   _   \u001b[93mO\u001b[0m   _   _   _\n",
            "--  --  --  --  --  --  --  --  --  --\n",
            "\n",
            "\n",
            "\n",
            "\n",
            "--  --  --  --  --  --  --  --  --  --\n",
            "    00  01  02  03  04  05  06  07  08\n",
            "00  \u001b[96mX\u001b[0m   \u001b[96mX\u001b[0m   \u001b[93mO\u001b[0m   \u001b[96mX\u001b[0m   \u001b[96mX\u001b[0m   \u001b[93mO\u001b[0m   \u001b[93mO\u001b[0m   \u001b[96mX\u001b[0m   \u001b[93mO\u001b[0m\n",
            "01  \u001b[93mO\u001b[0m   \u001b[93mO\u001b[0m   \u001b[96mX\u001b[0m   \u001b[93mO\u001b[0m   \u001b[93mO\u001b[0m   \u001b[93mO\u001b[0m   \u001b[96mX\u001b[0m   \u001b[93mO\u001b[0m   \u001b[96mX\u001b[0m\n",
            "02  \u001b[96mX\u001b[0m   \u001b[96mX\u001b[0m   \u001b[93mO\u001b[0m   \u001b[93mO\u001b[0m   \u001b[96mX\u001b[0m   \u001b[93mO\u001b[0m   \u001b[96mX\u001b[0m   \u001b[93mO\u001b[0m   \u001b[96mX\u001b[0m\n",
            "03  \u001b[93mO\u001b[0m   \u001b[93mO\u001b[0m   \u001b[96mX\u001b[0m   \u001b[96mX\u001b[0m   \u001b[96mX\u001b[0m   \u001b[96mX\u001b[0m   \u001b[93mO\u001b[0m   \u001b[93mO\u001b[0m   \u001b[93mO\u001b[0m\n",
            "04  \u001b[96mX\u001b[0m   \u001b[96mX\u001b[0m   \u001b[96mX\u001b[0m   \u001b[93mO\u001b[0m   \u001b[96mX\u001b[0m   \u001b[96mX\u001b[0m   \u001b[96mX\u001b[0m   \u001b[96mX\u001b[0m   \u001b[93mO\u001b[0m\n",
            "05  \u001b[96mX\u001b[0m   \u001b[93mO\u001b[0m   \u001b[93mO\u001b[0m   \u001b[93mO\u001b[0m   \u001b[96mX\u001b[0m   \u001b[93mO\u001b[0m   \u001b[96mX\u001b[0m   \u001b[96mX\u001b[0m   \u001b[96mX\u001b[0m\n",
            "06  \u001b[96mX\u001b[0m   \u001b[93mO\u001b[0m   \u001b[93mO\u001b[0m   \u001b[96mX\u001b[0m   \u001b[93mO\u001b[0m   \u001b[96mX\u001b[0m   \u001b[93mO\u001b[0m   \u001b[96mX\u001b[0m   \u001b[93mO\u001b[0m\n",
            "07  \u001b[93mO\u001b[0m   \u001b[93mO\u001b[0m   \u001b[93mO\u001b[0m   \u001b[96mX\u001b[0m   \u001b[93mO\u001b[0m   \u001b[96mX\u001b[0m   \u001b[96mX\u001b[0m   \u001b[93mO\u001b[0m   \u001b[93mO\u001b[0m\n",
            "08  \u001b[96mX\u001b[0m   \u001b[96mX\u001b[0m   \u001b[96mX\u001b[0m   \u001b[93mO\u001b[0m   \u001b[96mX\u001b[0m   \u001b[93mO\u001b[0m   \u001b[93mO\u001b[0m   \u001b[93mO\u001b[0m   \u001b[96mX\u001b[0m\n",
            "--  --  --  --  --  --  --  --  --  --\n",
            "\n",
            "\n",
            "\n",
            "\n",
            "--  --  --  --  --  --  --  --  --  --\n",
            "    00  01  02  03  04  05  06  07  08\n",
            "00  \u001b[96mX\u001b[0m   \u001b[93mO\u001b[0m   \u001b[93mO\u001b[0m   \u001b[96mX\u001b[0m   \u001b[96mX\u001b[0m   \u001b[93mO\u001b[0m   \u001b[93mO\u001b[0m   \u001b[96mX\u001b[0m   \u001b[96mX\u001b[0m\n",
            "01  \u001b[93mO\u001b[0m   \u001b[96mX\u001b[0m   \u001b[96mX\u001b[0m   \u001b[93mO\u001b[0m   \u001b[93mO\u001b[0m   \u001b[93mO\u001b[0m   \u001b[96mX\u001b[0m   \u001b[93mO\u001b[0m   \u001b[96mX\u001b[0m\n",
            "02  \u001b[96mX\u001b[0m   \u001b[93mO\u001b[0m   \u001b[93mO\u001b[0m   \u001b[96mX\u001b[0m   \u001b[96mX\u001b[0m   \u001b[96mX\u001b[0m   \u001b[96mX\u001b[0m   \u001b[93mO\u001b[0m   \u001b[96mX\u001b[0m\n",
            "03  \u001b[96mX\u001b[0m   \u001b[93mO\u001b[0m   \u001b[96mX\u001b[0m   \u001b[93mO\u001b[0m   \u001b[93mO\u001b[0m   \u001b[96mX\u001b[0m   \u001b[96mX\u001b[0m   \u001b[96mX\u001b[0m   \u001b[93mO\u001b[0m\n",
            "04  \u001b[96mX\u001b[0m   \u001b[93mO\u001b[0m   \u001b[96mX\u001b[0m   \u001b[93mO\u001b[0m   \u001b[96mX\u001b[0m   \u001b[93mO\u001b[0m   \u001b[93mO\u001b[0m   \u001b[96mX\u001b[0m   \u001b[93mO\u001b[0m\n",
            "05  \u001b[93mO\u001b[0m   \u001b[96mX\u001b[0m   \u001b[93mO\u001b[0m   \u001b[93mO\u001b[0m   \u001b[93mO\u001b[0m   \u001b[96mX\u001b[0m   \u001b[96mX\u001b[0m   \u001b[96mX\u001b[0m   \u001b[93mO\u001b[0m\n",
            "06  \u001b[93mO\u001b[0m   \u001b[96mX\u001b[0m   \u001b[93mO\u001b[0m   \u001b[96mX\u001b[0m   \u001b[93mO\u001b[0m   \u001b[93mO\u001b[0m   \u001b[96mX\u001b[0m   \u001b[93mO\u001b[0m   \u001b[96mX\u001b[0m\n",
            "07  \u001b[96mX\u001b[0m   \u001b[93mO\u001b[0m   \u001b[96mX\u001b[0m   \u001b[93mO\u001b[0m   \u001b[93mO\u001b[0m   \u001b[93mO\u001b[0m   \u001b[96mX\u001b[0m   \u001b[96mX\u001b[0m   \u001b[93mO\u001b[0m\n",
            "08  \u001b[96mX\u001b[0m   \u001b[93mO\u001b[0m   \u001b[96mX\u001b[0m   \u001b[93mO\u001b[0m   \u001b[96mX\u001b[0m   \u001b[96mX\u001b[0m   \u001b[96mX\u001b[0m   \u001b[93mO\u001b[0m   \u001b[93mO\u001b[0m\n",
            "--  --  --  --  --  --  --  --  --  --\n",
            "\n",
            "\n",
            "\n",
            "\n",
            "--  --  --  --  --  --  --  --  --  --\n",
            "    00  01  02  03  04  05  06  07  08\n",
            "00  \u001b[96mX\u001b[0m   \u001b[96mX\u001b[0m   \u001b[96mX\u001b[0m   \u001b[93mO\u001b[0m   \u001b[96mX\u001b[0m   \u001b[93mO\u001b[0m   \u001b[93mO\u001b[0m   \u001b[93mO\u001b[0m   \u001b[96mX\u001b[0m\n",
            "01  \u001b[96mX\u001b[0m   \u001b[93mO\u001b[0m   \u001b[93mO\u001b[0m   \u001b[93mO\u001b[0m   \u001b[96mX\u001b[0m   \u001b[96mX\u001b[0m   \u001b[96mX\u001b[0m   \u001b[93mO\u001b[0m   \u001b[96mX\u001b[0m\n",
            "02  \u001b[93mO\u001b[0m   \u001b[96mX\u001b[0m   \u001b[93mO\u001b[0m   \u001b[93mO\u001b[0m   \u001b[93mO\u001b[0m   \u001b[96mX\u001b[0m   \u001b[96mX\u001b[0m   \u001b[96mX\u001b[0m   \u001b[93mO\u001b[0m\n",
            "03  \u001b[96mX\u001b[0m   \u001b[93mO\u001b[0m   \u001b[96mX\u001b[0m   \u001b[96mX\u001b[0m   \u001b[96mX\u001b[0m   \u001b[96mX\u001b[0m   \u001b[93mO\u001b[0m   \u001b[93mO\u001b[0m   \u001b[93mO\u001b[0m\n",
            "04  \u001b[96mX\u001b[0m   \u001b[93mO\u001b[0m   \u001b[96mX\u001b[0m   \u001b[93mO\u001b[0m   \u001b[96mX\u001b[0m   \u001b[93mO\u001b[0m   \u001b[96mX\u001b[0m   \u001b[93mO\u001b[0m   \u001b[96mX\u001b[0m\n",
            "05  \u001b[93mO\u001b[0m   \u001b[96mX\u001b[0m   \u001b[93mO\u001b[0m   \u001b[96mX\u001b[0m   \u001b[96mX\u001b[0m   \u001b[93mO\u001b[0m   \u001b[93mO\u001b[0m   \u001b[96mX\u001b[0m   \u001b[93mO\u001b[0m\n",
            "06  \u001b[93mO\u001b[0m   \u001b[96mX\u001b[0m   \u001b[93mO\u001b[0m   \u001b[93mO\u001b[0m   \u001b[93mO\u001b[0m   \u001b[96mX\u001b[0m   \u001b[93mO\u001b[0m   \u001b[93mO\u001b[0m   \u001b[93mO\u001b[0m\n",
            "07  \u001b[93mO\u001b[0m   \u001b[96mX\u001b[0m   \u001b[96mX\u001b[0m   \u001b[93mO\u001b[0m   \u001b[96mX\u001b[0m   \u001b[93mO\u001b[0m   \u001b[96mX\u001b[0m   \u001b[96mX\u001b[0m   \u001b[96mX\u001b[0m\n",
            "08  \u001b[96mX\u001b[0m   \u001b[93mO\u001b[0m   \u001b[96mX\u001b[0m   \u001b[96mX\u001b[0m   \u001b[96mX\u001b[0m   \u001b[93mO\u001b[0m   \u001b[93mO\u001b[0m   \u001b[93mO\u001b[0m   \u001b[96mX\u001b[0m\n",
            "--  --  --  --  --  --  --  --  --  --\n",
            "\n",
            "\n"
          ]
        },
        {
          "data": {
            "text/plain": [
              "[1, 1]"
            ]
          },
          "execution_count": 7,
          "metadata": {},
          "output_type": "execute_result"
        }
      ],
      "source": [
        "compare_patternS(9,PATTERN_SCORES_2,PATTERN_SCORES_default, 5)"
      ]
    }
  ],
  "metadata": {
    "colab": {
      "name": "testing-pattern.ipynb",
      "provenance": []
    },
    "kernelspec": {
      "display_name": "Python 3",
      "name": "python3"
    },
    "language_info": {
      "name": "python"
    }
  },
  "nbformat": 4,
  "nbformat_minor": 0
}
