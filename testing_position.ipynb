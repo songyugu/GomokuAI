{
  "nbformat": 4,
  "nbformat_minor": 0,
  "metadata": {
    "colab": {
      "name": "testing-position.ipynb",
      "provenance": [],
      "toc_visible": true
    },
    "kernelspec": {
      "name": "python3",
      "display_name": "Python 3"
    },
    "language_info": {
      "name": "python"
    }
  },
  "cells": [
    {
      "cell_type": "code",
      "metadata": {
        "id": "5yhGxqVNfr35"
      },
      "source": [
        "from minimax import AI\n",
        "from board import Game\n",
        "\n",
        "\n",
        "def test_helper(times, ai1, ai2, s):\n",
        "    \"\"\"\n",
        "    Helper function for testing.\n",
        "    \"\"\"\n",
        "    counts = [0, 0]\n",
        "    for i in range(times):\n",
        "        game = Game(s)\n",
        "        player = 1\n",
        "        winning = False\n",
        "\n",
        "        while not winning:\n",
        "            # print(player)\n",
        "            if player == 1:  # black's turn\n",
        "                x, y = ai1.minimax(game.board, player)\n",
        "                game.place(x, y, player)\n",
        "                if game.check(x, y, player):\n",
        "                    winning = True\n",
        "                    counts[0] += 1\n",
        "                else:\n",
        "                    player = -player\n",
        "\n",
        "            else:\n",
        "                x, y = ai2.minimax(game.board, player)\n",
        "                game.place(x, y, player)\n",
        "                if game.check(x, y, player):\n",
        "                    winning = True\n",
        "                    counts[1] += 1\n",
        "                else:\n",
        "                    player = -player\n",
        "    # game.print()\n",
        "    return counts\n",
        "\n",
        "\n",
        "def compare_boardS(s, times=1, first=True):\n",
        "    \"\"\"\n",
        "    This function returns number of wins of the given two AI. \n",
        "    s: size of the board.\n",
        "    AI1 (black, 1) uses non-zero board_score heuristics if first is True, else no board sores\n",
        "    AI2 (white, -1) is the opposite of AI1\n",
        "    \"\"\"\n",
        "    ai1 = AI(size=s, player=1, board_scores=first)\n",
        "    ai2 = AI(size=s, board_scores=not first)\n",
        "\n",
        "    results = test_helper(times, ai1, ai2, s)\n",
        "    return results"
      ],
      "execution_count": null,
      "outputs": []
    },
    {
      "cell_type": "code",
      "metadata": {
        "id": "BRhV3CDSglg4",
        "colab": {
          "base_uri": "https://localhost:8080/"
        },
        "outputId": "a4eb2dec-ace7-4b96-c741-c25e177592e6"
      },
      "source": [
        "# testing with/without board scores of depth 2 on 9x9 board for 10 times\n",
        "bT_10 = compare_boardS(9,10,True)\n",
        "bT_10"
      ],
      "execution_count": null,
      "outputs": [
        {
          "output_type": "execute_result",
          "data": {
            "text/plain": [
              "[9, 1]"
            ]
          },
          "metadata": {},
          "execution_count": 2
        }
      ]
    }
  ]
}